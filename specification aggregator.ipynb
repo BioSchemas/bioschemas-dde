{
 "cells": [
  {
   "cell_type": "markdown",
   "metadata": {},
   "source": [
    "## Specification aggregator for bioschemas\n",
    "\n",
    "The DDE intentionally does not allow existing namespaces to be used by others. This is a feature that ensures that user-generated schemas or user-customized schemas are not confused for existing, registered schemas. Unfortunately, this means that users looking to update an existing bioschemas cannot use the bioschemas namespace when creating a schema within the DDE. The aggregator includes a function will replace the temporary namespace with the bioschemas namespace for the merge."
   ]
  },
  {
   "cell_type": "markdown",
   "metadata": {},
   "source": [
    "### To do\n",
    "1. Include a check for multiple same classes:\n",
    "  * A profile might reference another profile. In order for the profile to work, a dummy class of the referenced profile may need to be created. This dummy profile should be included in the merged file ONLY IF the actual class (which should have a validation section of its own) does not exist\n",
    "  * Use the existence of a validation to determine which class to keep in the event of the same class coming from different profiles (real or dummy)\n",
    "\n",
    "\n",
    "2. Include a check for multiple same properties:\n",
    "  * A single property might be used across different bioschemas classes\n",
    "  * This means that the `\"schema:domainIncludes\"` property should be updated to reflect ALL of the classes that use it, rather than just the first class that uses it.\n",
    "  * eg- \"bioschemas:output\" might be a property in \"ComputationalTool\" and \"ComputationalWorkflow\". Since these profiles are developed separately, the one in \"ComputationalTool\" will include `\"schema:domainIncludes\": {\"@id\": \"bioschemas:ComputationalTool\"}` while the one from ComputationalWorkflow will include `\"schema:domainIncludes\": {\"@id\": \"bioschemas:ComputationalWorkflow\"}`. These will need to be merged into a single property with `\"schema:domainIncludes\": [{\"@id\": \"bioschemas:ComputationalTool\"},{\"@id\": \"bioschemas:ComputationalWorkflow\"}]`"
   ]
  },
  {
   "cell_type": "code",
   "execution_count": 2,
   "metadata": {},
   "outputs": [],
   "source": [
    "import json\n",
    "import requests\n",
    "from pandas import read_csv"
   ]
  },
  {
   "cell_type": "code",
   "execution_count": 3,
   "metadata": {},
   "outputs": [],
   "source": [
    "def get_raw_url(url):\n",
    "    if 'raw' not in url:\n",
    "        rawrawurl = url.replace('github.com','raw.githubusercontent.com')\n",
    "        rawurl = rawrawurl.replace('/blob/master/','/master/')\n",
    "    else:\n",
    "        rawurl = url\n",
    "    return(rawurl)"
   ]
  },
  {
   "cell_type": "code",
   "execution_count": null,
   "metadata": {},
   "outputs": [],
   "source": [
    "def rename_namespace(spec_list,eachurl,rawtext):\n",
    "    tmpinfo = spec_list.loc[spec_list['url']==eachurl]\n",
    "    tmpnamespace = tmpinfo.iloc[0]['namespace']\n",
    "    if namespace!='bioschemas'\n",
    "        tmptext = '\"@id\": \"'+tmpnamespace+':'\n",
    "        cleantext = rawtext.replace(tmptext,'\"@id\": \"bioschemas:')\n",
    "    else:\n",
    "        cleantext = rawtext\n",
    "    return(cleantext)"
   ]
  },
  {
   "cell_type": "code",
   "execution_count": 4,
   "metadata": {},
   "outputs": [],
   "source": [
    "def merge_specs(spec_list):\n",
    "    bioschemas_json = {}\n",
    "    graphlist = []\n",
    "    for eachurl in spec_list['url']:\n",
    "        rawurl = get_raw_url(eachurl)\n",
    "        r = requests.get(rawurl)\n",
    "        if r.status_code == 200:\n",
    "            cleantext = rename_namespace(spec_list,eachurl,r.text)\n",
    "            spec_json = json.loads(cleantext)\n",
    "            bioschemas_json['@context'] = spec_json['@context']\n",
    "            for x in spec_json['@graph']:\n",
    "                if x not in graphlist:\n",
    "                    graphlist.append(x)\n",
    "    bioschemas_json['@graph']=graphlist\n",
    "    return(bioschemas_json)"
   ]
  },
  {
   "cell_type": "code",
   "execution_count": 5,
   "metadata": {},
   "outputs": [],
   "source": [
    "def update_specs():\n",
    "    spec_list = read_csv('specifications_list.txt',delimiter='\\t',header=0)\n",
    "    bioschemas_json = merge_specs(spec_list)\n",
    "    with open('bioschemas.json','w') as outfile:\n",
    "        json.dump(bioschemas_json,outfile)"
   ]
  },
  {
   "cell_type": "code",
   "execution_count": 19,
   "metadata": {},
   "outputs": [],
   "source": [
    "## main\n",
    "update_specs()\n"
   ]
  },
  {
   "cell_type": "code",
   "execution_count": null,
   "metadata": {},
   "outputs": [],
   "source": []
  }
 ],
 "metadata": {
  "kernelspec": {
   "display_name": "Python 3",
   "language": "python",
   "name": "python3"
  },
  "language_info": {
   "codemirror_mode": {
    "name": "ipython",
    "version": 3
   },
   "file_extension": ".py",
   "mimetype": "text/x-python",
   "name": "python",
   "nbconvert_exporter": "python",
   "pygments_lexer": "ipython3",
   "version": "3.8.5"
  }
 },
 "nbformat": 4,
 "nbformat_minor": 4
}
