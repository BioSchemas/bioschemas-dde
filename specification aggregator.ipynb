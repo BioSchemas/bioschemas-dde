{
 "cells": [
  {
   "cell_type": "code",
   "execution_count": 1,
   "metadata": {},
   "outputs": [],
   "source": [
    "import json\n",
    "import requests\n",
    "from pandas import read_csv"
   ]
  },
  {
   "cell_type": "code",
   "execution_count": 2,
   "metadata": {},
   "outputs": [],
   "source": [
    "def get_raw_url(url):\n",
    "    if 'raw' not in url:\n",
    "        rawrawurl = url.replace('github.com','raw.githubusercontent.com')\n",
    "        rawurl = rawrawurl.replace('/blob/master/','/master/')\n",
    "    else:\n",
    "        rawurl = url\n",
    "    return(rawurl)"
   ]
  },
  {
   "cell_type": "code",
   "execution_count": 3,
   "metadata": {},
   "outputs": [],
   "source": [
    "def merge_specs(spec_list):\n",
    "    bioschemas_json = {}\n",
    "    graphlist = []\n",
    "    for eachurl in spec_list['url']:\n",
    "        rawurl = get_raw_url(eachurl)\n",
    "        r = requests.get(rawurl)\n",
    "        if r.status_code == 200:\n",
    "            spec_json = json.loads(r.text)\n",
    "            bioschemas_json['@context'] = spec_json['@context']\n",
    "            for x in spec_json['@graph']:\n",
    "                if x not in graphlist:\n",
    "                    graphlist.append(x)\n",
    "    bioschemas_json['@graph']=graphlist\n",
    "    return(bioschemas_json)"
   ]
  },
  {
   "cell_type": "code",
   "execution_count": 6,
   "metadata": {},
   "outputs": [],
   "source": [
    "def update_specs():\n",
    "    spec_list = read_csv('specifications_list.txt',delimiter='\\t',header=0)\n",
    "    bioschemas_json = merge_specs(spec_list)\n",
    "    with open('bioschemas.json','w') as outfile:\n",
    "        json.dump(bioschemas_json,outfile)"
   ]
  },
  {
   "cell_type": "code",
   "execution_count": 7,
   "metadata": {},
   "outputs": [],
   "source": [
    "## main\n",
    "update_specs()"
   ]
  },
  {
   "cell_type": "code",
   "execution_count": null,
   "metadata": {},
   "outputs": [],
   "source": [
    "## To do -- add check to ensure profiles and types listed are using the bioschemas namespace"
   ]
  }
 ],
 "metadata": {
  "kernelspec": {
   "display_name": "Python 3",
   "language": "python",
   "name": "python3"
  },
  "language_info": {
   "codemirror_mode": {
    "name": "ipython",
    "version": 3
   },
   "file_extension": ".py",
   "mimetype": "text/x-python",
   "name": "python",
   "nbconvert_exporter": "python",
   "pygments_lexer": "ipython3",
   "version": "3.8.5"
  }
 },
 "nbformat": 4,
 "nbformat_minor": 4
}
