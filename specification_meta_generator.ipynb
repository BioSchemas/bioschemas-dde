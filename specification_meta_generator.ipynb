{
 "cells": [
  {
   "cell_type": "markdown",
   "id": "e131b85b",
   "metadata": {},
   "source": [
    "## Specification DDE Metadata generator\n",
    "\n",
    "This script ingests information from Sahar's automatically pushed list of recently updated files to create changes in the appropriate tables that are used by the DDE."
   ]
  },
  {
   "cell_type": "code",
   "execution_count": 21,
   "id": "b4a8ccc1",
   "metadata": {},
   "outputs": [],
   "source": [
    "import os\n",
    "import json\n",
    "import pandas as pd\n",
    "import time\n",
    "import requests"
   ]
  },
  {
   "cell_type": "code",
   "execution_count": 83,
   "id": "80487b02",
   "metadata": {},
   "outputs": [],
   "source": [
    "def convert_to_raw(githuburl): ## Converts a github url to a raw github url\n",
    "    githubrawurl = githuburl.replace('github.com','raw.githubusercontent.com').replace('blob/','').replace('tree/','')\n",
    "    return githubrawurl\n",
    "\n",
    "def load_parent_source():\n",
    "    parent_source_url = 'https://github.com/BioSchemas/bioschemas.github.io/blob/profile-auto-generation/_data/metadata_mapping.csv'\n",
    "    parent_source_df = pd.read_csv(convert_to_raw(parent_source_url), header=0,usecols = ['profile','TypeParent','ProfileParent'])\n",
    "    return parent_source_df\n",
    "\n",
    "def lookup_parent(parent_source_options,classname,spectype):\n",
    "    parent_choices = parent_source_options.loc[parent_source_options['profile']==classname]\n",
    "    if spectype == 'Profile':\n",
    "        parent = parent_choices.iloc[0]['ProfileParent']\n",
    "    else:\n",
    "        parent = parent_choices.iloc[0]['TypeParent']\n",
    "    return parent\n",
    "\n",
    "def parse_info_from_json(url,parent_source_options):\n",
    "    r = requests.get(convert_to_raw(url))\n",
    "    tmpjson = json.loads(r.text)\n",
    "    speclass =  [x for x in tmpjson['@graph'] if x[\"@type\"]==\"rdfs:Class\"]\n",
    "    speclassid = speclass[0]['@id'].split(':')\n",
    "    namespace = speclassid[0]\n",
    "    classname = speclassid[1]\n",
    "    if '$validation' in list(speclass[0].keys()):\n",
    "        spectype = 'Profile'\n",
    "    else:\n",
    "        spectype = 'Type'\n",
    "    version = parse_version_from_url(url,classname)\n",
    "    parent = lookup_parent(parent_source_options,classname,spectype)\n",
    "    tmpdict = {'namespace':namespace,'name':classname,'subClassOf':parent,'type':spectype,'version':version,'url':url}\n",
    "    return tmpdict\n",
    "\n",
    "def generate_base_update_table(script_path):\n",
    "    updated_specs_folder = os.path.join(script_path,'latest-updated-profiles')\n",
    "    latest_updates = os.listdir(updated_specs_folder)\n",
    "    parent_source_options = load_parent_source()\n",
    "    updated_list = []\n",
    "    for eachfile in latest_updates:\n",
    "        filepath = os.path.join(updated_specs_folder,eachfile)\n",
    "        tmpdf = pd.read_csv(filepath, header=0)\n",
    "        version = tmpdf.iloc[0]['typeversion']\n",
    "        url = tmpdf.iloc[0]['url']\n",
    "        tmpdict = parse_info_from_json(url,parent_source_options)\n",
    "        updated_list.append(tmpdict)\n",
    "    updated_df = pd.DataFrame(updated_list)\n",
    "    return updated_df"
   ]
  },
  {
   "cell_type": "code",
   "execution_count": 142,
   "id": "f75bf57c",
   "metadata": {},
   "outputs": [],
   "source": [
    "def parse_version_from_url(url,classname):\n",
    "    urlstrlist = url.split('/')\n",
    "    bioschemasfile = urlstrlist[-1]\n",
    "    no_ext = bioschemasfile.replace('.JSONLD','').replace('.jsonld','').replace('.JSON','').replace('.json','')\n",
    "    version = no_ext.replace(classname+'_v','').replace(classname+'_','').replace('-type','').replace('-profile','')\n",
    "    return version\n",
    "\n",
    "\n",
    "def check_for_updates(spec_updated_df,original_df):\n",
    "    update_needed = False\n",
    "    if len(spec_updated_df)>0:\n",
    "        update_needed = True\n",
    "    if update_needed == True:\n",
    "        original_url_list = original_df['url'].tolist()\n",
    "        original_alias_list = [x.replace('blob','tree') for x in original_url_list]\n",
    "        potentially_needs_updates = spec_updated_df.loc[~spec_updated_df['url'].isin(original_url_list)]\n",
    "        if len(potentially_needs_updates) > 0:\n",
    "            alias_check = potentially_needs_updates.loc[~potentially_needs_updates['url'].isin(original_alias_list)]\n",
    "            if len(alias_check) > 0:\n",
    "                update_needed = True\n",
    "            else:\n",
    "                update_needed = False\n",
    "        else:\n",
    "            update_needed = False\n",
    "    return(update_needed)\n",
    "\n",
    "\n",
    "def compare_versions(a,b):\n",
    "    greaterlist = ['0.10','0.11','0.12','0.13','0.14','0.15']\n",
    "    lesserlist = ['0.2','0.3','0.4','0.5','0.6','0.7','0.8','0.9']\n",
    "    latest_version = None\n",
    "    if a > b:\n",
    "        latest_version = a\n",
    "    else:\n",
    "        for x in greaterlist:\n",
    "            if x in a:\n",
    "                weirdversion = True\n",
    "                break\n",
    "            else:\n",
    "                weirdversion = False\n",
    "        if weirdversion == False:\n",
    "            latest_version = b\n",
    "        else:\n",
    "            for y in lesserlist:\n",
    "                if y in b:\n",
    "                    latest_version = a\n",
    "                    break\n",
    "                else:\n",
    "                    latest_version = b    \n",
    "    return latest_version\n",
    "\n",
    "\n",
    "def update_spec_table(original_df,spec_updated_df):\n",
    "    classes_to_update = spec_updated_df['name'].to_list()\n",
    "    newdf = original_df.loc[~original_df['name'].isin(classes_to_update)]\n",
    "    for eachclass in classes_to_update:\n",
    "        updateversiondf = spec_updated_df.loc[spec_updated_df['name']==eachclass]\n",
    "        updateversion = updateversiondf.iloc[0]['version']\n",
    "        oldversiondf = original_df.loc[original_df['name']==eachclass]\n",
    "        oldversion = oldversiondf.iloc[0]['version']\n",
    "        latestversion = compare_versions(updateversion,oldversion)\n",
    "        if latestversion == updateversion:\n",
    "            newdf = pd.concat((newdf,updateversiondf),ignore_index=True)\n",
    "        else :\n",
    "            newdf = pd.concat((newdf,oldversiondf),ignore_index=True)\n",
    "    return newdf"
   ]
  },
  {
   "cell_type": "markdown",
   "id": "26bb006a",
   "metadata": {},
   "source": [
    "## To do:\n",
    "\n",
    "1. Generate the updated_df\n",
    "2. split out the updated_df to the individual tables that they should update\n",
    "3. Check to see if the url is already in the table, if so, ignore it\n",
    " * get old table url.tolist generate a list of urls)\n",
    " * `newtable.loc[~newtable[url].isin(list of oldtable urls)]`\n",
    "4. of the remaining entries, check if the name is already in the table\n",
    " * if it is, select the version with the higher number\n",
    " "
   ]
  },
  {
   "cell_type": "code",
   "execution_count": 117,
   "id": "9345d242",
   "metadata": {},
   "outputs": [
    {
     "name": "stdout",
     "output_type": "stream",
     "text": [
      "              namespace    name          subClassOf     type  \\\n",
      "0  bioschemasdeprecated  Beacon  schema:DataCatalog  Profile   \n",
      "\n",
      "                           version  \\\n",
      "0  0.2-DRAFT-2018_04_23-DEPRECATED   \n",
      "\n",
      "                                                 url  \n",
      "0  https://github.com/BioSchemas/specifications/t...  \n"
     ]
    }
   ],
   "source": [
    "script_path = ''\n",
    "updated_df = generate_base_update_table(script_path)\n",
    "\n",
    "## split the tables\n",
    "deprecated = updated_df.loc[updated_df['version'].astype(str).str.contains('DEPRECATED')]\n",
    "draftdf = updated_df.loc[updated_df['version'].astype(str).str.contains('DRAFT')]\n",
    "releasedf = updated_df.loc[updated_df['version'].astype(str).str.contains('RELEASE')]\n",
    "draft_profile = draftdf.loc[draftdf['type']=='Profile']\n",
    "draft_type = draftdf.loc[draftdf['type']=='Type']\n",
    "\n",
    "print(deprecated)"
   ]
  },
  {
   "cell_type": "code",
   "execution_count": 143,
   "id": "a89230cd",
   "metadata": {},
   "outputs": [
    {
     "name": "stdout",
     "output_type": "stream",
     "text": [
      "                name            subclassOf     type  \\\n",
      "0         DataRecord   schema:CreativeWork  Profile   \n",
      "1  ProteinAnnotation  schema:BioChemEntity  Profile   \n",
      "2             Beacon                   NaN  Profile   \n",
      "\n",
      "                           version  \\\n",
      "0             0.2-DRAFT-2019_06_14   \n",
      "1                        0.6-DRAFT   \n",
      "2  0.2-DRAFT-2018_04_23-DEPRECATED   \n",
      "\n",
      "                                                 url             namespace  \\\n",
      "0  https://github.com/BioSchemas/specifications/b...                   NaN   \n",
      "1  https://github.com/BioSchemas/specifications/b...                   NaN   \n",
      "2  https://github.com/BioSchemas/specifications/t...  bioschemasdeprecated   \n",
      "\n",
      "           subClassOf  \n",
      "0                 NaN  \n",
      "1                 NaN  \n",
      "2  schema:DataCatalog  \n"
     ]
    }
   ],
   "source": [
    "## check if a table needs updating\n",
    "\n",
    "spec_updated_df = deprecated\n",
    "original_df = pd.read_csv(os.path.join(script_path,'deprecated.txt'),delimiter='\\t',header=0,index_col=0)\n",
    "update_needed = check_for_updates(spec_updated_df,original_df)\n",
    "newdf = update_spec_table(original_df,spec_updated_df)\n",
    "print(newdf)\n"
   ]
  },
  {
   "cell_type": "code",
   "execution_count": 134,
   "id": "714714ae",
   "metadata": {},
   "outputs": [],
   "source": []
  },
  {
   "cell_type": "code",
   "execution_count": 139,
   "id": "459bcc09",
   "metadata": {},
   "outputs": [
    {
     "name": "stdout",
     "output_type": "stream",
     "text": [
      "0.10-DRAFT\n"
     ]
    }
   ],
   "source": [
    "a = '0.10-DRAFT'\n",
    "b = '0.8-DRAFT'\n",
    "  \n",
    "test = compare_versions(a,b)\n",
    "print(test)"
   ]
  },
  {
   "cell_type": "code",
   "execution_count": 124,
   "id": "00f5a30d",
   "metadata": {},
   "outputs": [
    {
     "name": "stdout",
     "output_type": "stream",
     "text": [
      "older is smaller\n"
     ]
    }
   ],
   "source": [
    "## if a table needs updating, select the files from the updatedf only if the version is greater\n",
    "update_needed = True\n",
    "if update_needed == True:\n",
    "\n"
   ]
  },
  {
   "cell_type": "code",
   "execution_count": null,
   "id": "e9e12cf9",
   "metadata": {},
   "outputs": [],
   "source": []
  }
 ],
 "metadata": {
  "kernelspec": {
   "display_name": "Python 3 (ipykernel)",
   "language": "python",
   "name": "python3"
  },
  "language_info": {
   "codemirror_mode": {
    "name": "ipython",
    "version": 3
   },
   "file_extension": ".py",
   "mimetype": "text/x-python",
   "name": "python",
   "nbconvert_exporter": "python",
   "pygments_lexer": "ipython3",
   "version": "3.8.5"
  }
 },
 "nbformat": 4,
 "nbformat_minor": 5
}
